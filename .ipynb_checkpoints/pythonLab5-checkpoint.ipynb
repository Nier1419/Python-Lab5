{
 "cells": [
  {
   "cell_type": "code",
   "execution_count": 8,
   "id": "f0ae16fb",
   "metadata": {},
   "outputs": [
    {
     "name": "stdout",
     "output_type": "stream",
     "text": [
      "Original list: [5, 4, 17, 19, 30, 2, 7, 10, 45]\n",
      "\n",
      "List sum is: 139\n",
      "List max is: 45\n",
      "List of even numbers: [4, 30, 2, 10]\n",
      "sliced list: [5, 4, 17, 19, 30]\n"
     ]
    }
   ],
   "source": [
    "\"\"\"\n",
    "Lists\n",
    "Given the following list : [5, 4, 17, 19, 30, 2, 7, 10, 45]\n",
    "\n",
    "Q1: Write a Python program to sum all the items in the list.\n",
    "Q2: Write a Python program to get the largest number from the list.\n",
    "Q3: Use list comprehension, create a new list from the above list containing only even numbers.\n",
    "Q4: Use list slicing to get a new list from the previous list starting from the start to the 5th element in the list.\n",
    "\"\"\"\n",
    "#creating and showing the original list\n",
    "exampleList=[5, 4, 17, 19, 30, 2, 7, 10, 45]\n",
    "print(\"Original list:\", exampleList)\n",
    "\n",
    "#using the sum function to sum the list elements\n",
    "listSum=sum(exampleList)\n",
    "print(\"\\nList sum is:\", listSum)\n",
    "\n",
    "#using the max function to get the maximum value in the list\n",
    "listMax=max(exampleList)\n",
    "print(\"List max is:\", listMax)\n",
    "\n",
    "#using list comprehension to get even numbers using modulo\n",
    "evenList=[i for i in exampleList if i%2==0]\n",
    "print(\"List of even numbers:\", evenList)\n",
    "\n",
    "#slicing list using list slicing\n",
    "slicedList=exampleList[:5]\n",
    "print(\"sliced list:\", slicedList)"
   ]
  },
  {
   "cell_type": "code",
   "execution_count": null,
   "id": "b1bf8794",
   "metadata": {},
   "outputs": [],
   "source": []
  }
 ],
 "metadata": {
  "kernelspec": {
   "display_name": "Python 3 (ipykernel)",
   "language": "python",
   "name": "python3"
  },
  "language_info": {
   "codemirror_mode": {
    "name": "ipython",
    "version": 3
   },
   "file_extension": ".py",
   "mimetype": "text/x-python",
   "name": "python",
   "nbconvert_exporter": "python",
   "pygments_lexer": "ipython3",
   "version": "3.9.12"
  }
 },
 "nbformat": 4,
 "nbformat_minor": 5
}
